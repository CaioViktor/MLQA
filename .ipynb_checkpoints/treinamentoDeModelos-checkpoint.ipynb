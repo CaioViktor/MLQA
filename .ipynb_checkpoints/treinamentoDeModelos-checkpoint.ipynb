{
 "cells": [
  {
   "cell_type": "markdown",
   "metadata": {},
   "source": [
    "# Código de Treinamento de modelos \n",
    "\n",
    "Autor: Caio Viktor da Silva Avila\n",
    "\n",
    "Descrição:\n",
    "\n",
    "    Código de Treinamento de modelos para classificação de tipo de resposta para perguntas QA. É dado como entrada uma pergunta de linguagem natural em texto plano e é classificado o tipo de sua resposta esperada, podendo este ser 'number', 'boolean', 'resource', 'string', 'date'."
   ]
  },
  {
   "cell_type": "markdown",
   "metadata": {},
   "source": [
    "Importando dataset de treino"
   ]
  },
  {
   "cell_type": "code",
   "execution_count": 1,
   "metadata": {},
   "outputs": [
    {
     "data": {
      "text/html": [
       "<div>\n",
       "<style scoped>\n",
       "    .dataframe tbody tr th:only-of-type {\n",
       "        vertical-align: middle;\n",
       "    }\n",
       "\n",
       "    .dataframe tbody tr th {\n",
       "        vertical-align: top;\n",
       "    }\n",
       "\n",
       "    .dataframe thead th {\n",
       "        text-align: right;\n",
       "    }\n",
       "</style>\n",
       "<table border=\"1\" class=\"dataframe\">\n",
       "  <thead>\n",
       "    <tr style=\"text-align: right;\">\n",
       "      <th></th>\n",
       "      <th>id</th>\n",
       "      <th>answer_type</th>\n",
       "      <th>string</th>\n",
       "      <th>keywords</th>\n",
       "    </tr>\n",
       "  </thead>\n",
       "  <tbody>\n",
       "    <tr>\n",
       "      <th>0</th>\n",
       "      <td>1</td>\n",
       "      <td>resource</td>\n",
       "      <td>Give me all cosmonauts.</td>\n",
       "      <td>cosmonauts</td>\n",
       "    </tr>\n",
       "    <tr>\n",
       "      <th>1</th>\n",
       "      <td>2</td>\n",
       "      <td>date</td>\n",
       "      <td>Give me the birthdays of all actors of the tel...</td>\n",
       "      <td>television show, Charmed, actor, birthday</td>\n",
       "    </tr>\n",
       "    <tr>\n",
       "      <th>2</th>\n",
       "      <td>3</td>\n",
       "      <td>resource</td>\n",
       "      <td>Who is the daughter of Robert Kennedy married to?</td>\n",
       "      <td>Robert Kennedy, daughter, married</td>\n",
       "    </tr>\n",
       "    <tr>\n",
       "      <th>3</th>\n",
       "      <td>4</td>\n",
       "      <td>resource</td>\n",
       "      <td>Which river does the Brooklyn Bridge cross?</td>\n",
       "      <td>river, cross, Brooklyn Bridge</td>\n",
       "    </tr>\n",
       "    <tr>\n",
       "      <th>4</th>\n",
       "      <td>5</td>\n",
       "      <td>number</td>\n",
       "      <td>How many countries are there in Europe?</td>\n",
       "      <td>Europe, countries</td>\n",
       "    </tr>\n",
       "    <tr>\n",
       "      <th>5</th>\n",
       "      <td>6</td>\n",
       "      <td>resource</td>\n",
       "      <td>In which city did John F. Kennedy die?</td>\n",
       "      <td>city, John F. Kennedy, die</td>\n",
       "    </tr>\n",
       "    <tr>\n",
       "      <th>6</th>\n",
       "      <td>7</td>\n",
       "      <td>boolean</td>\n",
       "      <td>Does the Isar flow into a lake?</td>\n",
       "      <td>Isar, flow, lake</td>\n",
       "    </tr>\n",
       "    <tr>\n",
       "      <th>7</th>\n",
       "      <td>8</td>\n",
       "      <td>resource</td>\n",
       "      <td>Which countries have more than ten caves?</td>\n",
       "      <td>country, cave, more than ten</td>\n",
       "    </tr>\n",
       "    <tr>\n",
       "      <th>8</th>\n",
       "      <td>9</td>\n",
       "      <td>boolean</td>\n",
       "      <td>Are tree frogs a type of amphibian?</td>\n",
       "      <td>tree frog, amphibian</td>\n",
       "    </tr>\n",
       "    <tr>\n",
       "      <th>9</th>\n",
       "      <td>10</td>\n",
       "      <td>resource</td>\n",
       "      <td>Who created Goofy?</td>\n",
       "      <td>created, Goofy</td>\n",
       "    </tr>\n",
       "    <tr>\n",
       "      <th>10</th>\n",
       "      <td>11</td>\n",
       "      <td>resource</td>\n",
       "      <td>Give me the capitals of all countries in Africa.</td>\n",
       "      <td>Africa, country, capital</td>\n",
       "    </tr>\n",
       "    <tr>\n",
       "      <th>11</th>\n",
       "      <td>12</td>\n",
       "      <td>resource</td>\n",
       "      <td>Give me all cities in New Jersey with more tha...</td>\n",
       "      <td>New Jersey, city, inhabitants, more than 100000</td>\n",
       "    </tr>\n",
       "    <tr>\n",
       "      <th>12</th>\n",
       "      <td>13</td>\n",
       "      <td>resource</td>\n",
       "      <td>Which museum exhibits The Scream by Munch?</td>\n",
       "      <td>museum, Scream, Munch</td>\n",
       "    </tr>\n",
       "    <tr>\n",
       "      <th>13</th>\n",
       "      <td>14</td>\n",
       "      <td>boolean</td>\n",
       "      <td>Is Egypts largest city also its capital?</td>\n",
       "      <td>largest city, Egypt, capital</td>\n",
       "    </tr>\n",
       "    <tr>\n",
       "      <th>14</th>\n",
       "      <td>15</td>\n",
       "      <td>number</td>\n",
       "      <td>How many people live in the capital of Australia?</td>\n",
       "      <td>Australia, capital, people, live</td>\n",
       "    </tr>\n",
       "    <tr>\n",
       "      <th>15</th>\n",
       "      <td>16</td>\n",
       "      <td>resource</td>\n",
       "      <td>In which country is the Limerick Lake?</td>\n",
       "      <td>Limerick Lake, country</td>\n",
       "    </tr>\n",
       "    <tr>\n",
       "      <th>16</th>\n",
       "      <td>17</td>\n",
       "      <td>resource</td>\n",
       "      <td>Which television shows were created by John Cl...</td>\n",
       "      <td>television show, create, John Cleese</td>\n",
       "    </tr>\n",
       "    <tr>\n",
       "      <th>17</th>\n",
       "      <td>18</td>\n",
       "      <td>resource</td>\n",
       "      <td>Which mountain is the highest after the Annapu...</td>\n",
       "      <td>mountain, highest after, Annapurna</td>\n",
       "    </tr>\n",
       "    <tr>\n",
       "      <th>18</th>\n",
       "      <td>19</td>\n",
       "      <td>resource</td>\n",
       "      <td>In which films directed by Garry Marshall was ...</td>\n",
       "      <td>film, directed, Garry Marshall, starring, Juli...</td>\n",
       "    </tr>\n",
       "    <tr>\n",
       "      <th>19</th>\n",
       "      <td>20</td>\n",
       "      <td>boolean</td>\n",
       "      <td>Was U.S. president Jackson involved in a war?</td>\n",
       "      <td>U.S. president, Jackson, war</td>\n",
       "    </tr>\n",
       "    <tr>\n",
       "      <th>20</th>\n",
       "      <td>21</td>\n",
       "      <td>resource</td>\n",
       "      <td>Give me all communist countries.</td>\n",
       "      <td>communist countries</td>\n",
       "    </tr>\n",
       "    <tr>\n",
       "      <th>21</th>\n",
       "      <td>22</td>\n",
       "      <td>resource</td>\n",
       "      <td>Which awards did Douglas Hofstadter win?</td>\n",
       "      <td>Douglas Hofstadter, award</td>\n",
       "    </tr>\n",
       "    <tr>\n",
       "      <th>22</th>\n",
       "      <td>23</td>\n",
       "      <td>resource</td>\n",
       "      <td>What is the currency of the Czech Republic?</td>\n",
       "      <td>Czech republic, currency</td>\n",
       "    </tr>\n",
       "    <tr>\n",
       "      <th>23</th>\n",
       "      <td>24</td>\n",
       "      <td>resource</td>\n",
       "      <td>Which countries adopted the Euro?</td>\n",
       "      <td>country, adopt, Euro</td>\n",
       "    </tr>\n",
       "    <tr>\n",
       "      <th>24</th>\n",
       "      <td>25</td>\n",
       "      <td>number</td>\n",
       "      <td>What is the area code of Berlin?</td>\n",
       "      <td>Berlin, area code</td>\n",
       "    </tr>\n",
       "    <tr>\n",
       "      <th>25</th>\n",
       "      <td>26</td>\n",
       "      <td>resource</td>\n",
       "      <td>Which countries have more than two official la...</td>\n",
       "      <td>country, official language, more than two</td>\n",
       "    </tr>\n",
       "    <tr>\n",
       "      <th>26</th>\n",
       "      <td>27</td>\n",
       "      <td>resource</td>\n",
       "      <td>Who is the owner of Rolls-Royce?</td>\n",
       "      <td>Rolls-Royce, owner</td>\n",
       "    </tr>\n",
       "    <tr>\n",
       "      <th>27</th>\n",
       "      <td>28</td>\n",
       "      <td>resource</td>\n",
       "      <td>Through which countries does the Yenisei river...</td>\n",
       "      <td>Yenisei river, flow through, country</td>\n",
       "    </tr>\n",
       "    <tr>\n",
       "      <th>28</th>\n",
       "      <td>29</td>\n",
       "      <td>date</td>\n",
       "      <td>When did Latvia join the EU?</td>\n",
       "      <td>Latvia, join, EU</td>\n",
       "    </tr>\n",
       "    <tr>\n",
       "      <th>29</th>\n",
       "      <td>30</td>\n",
       "      <td>resource</td>\n",
       "      <td>Which politicians were married to a German?</td>\n",
       "      <td>politician, married, German</td>\n",
       "    </tr>\n",
       "    <tr>\n",
       "      <th>...</th>\n",
       "      <td>...</td>\n",
       "      <td>...</td>\n",
       "      <td>...</td>\n",
       "      <td>...</td>\n",
       "    </tr>\n",
       "    <tr>\n",
       "      <th>587</th>\n",
       "      <td>588</td>\n",
       "      <td>boolean</td>\n",
       "      <td>Did Che Guevara have children?</td>\n",
       "      <td>children, Che Guevara</td>\n",
       "    </tr>\n",
       "    <tr>\n",
       "      <th>588</th>\n",
       "      <td>589</td>\n",
       "      <td>boolean</td>\n",
       "      <td>Is Lake Baikal bigger than the Great Bear Lake?</td>\n",
       "      <td>Lake Baikal, bigger than, Great Bear Lake</td>\n",
       "    </tr>\n",
       "    <tr>\n",
       "      <th>589</th>\n",
       "      <td>590</td>\n",
       "      <td>boolean</td>\n",
       "      <td>Did Kaurismäki ever win the Grand Prix at Cannes?</td>\n",
       "      <td>Kaurismäki, winner, Grand Prix at Cannes</td>\n",
       "    </tr>\n",
       "    <tr>\n",
       "      <th>590</th>\n",
       "      <td>591</td>\n",
       "      <td>resource</td>\n",
       "      <td>Give me all books by William Goldman with more...</td>\n",
       "      <td>book, William Goldman, pages, more than 300</td>\n",
       "    </tr>\n",
       "    <tr>\n",
       "      <th>591</th>\n",
       "      <td>592</td>\n",
       "      <td>resource</td>\n",
       "      <td>Where is Fort Knox located?</td>\n",
       "      <td>Fort Knox, located</td>\n",
       "    </tr>\n",
       "    <tr>\n",
       "      <th>592</th>\n",
       "      <td>593</td>\n",
       "      <td>resource</td>\n",
       "      <td>In which U.S. state is Fort Knox located?</td>\n",
       "      <td>Fort Knox, located, U.S. state</td>\n",
       "    </tr>\n",
       "    <tr>\n",
       "      <th>593</th>\n",
       "      <td>594</td>\n",
       "      <td>resource</td>\n",
       "      <td>Where is Syngman Rhee buried?</td>\n",
       "      <td>where, Syngman Rhee, buried</td>\n",
       "    </tr>\n",
       "    <tr>\n",
       "      <th>594</th>\n",
       "      <td>595</td>\n",
       "      <td>resource</td>\n",
       "      <td>What is the timezone in San Pedro de Atacama?</td>\n",
       "      <td>timezone, San Pedro de Atacama</td>\n",
       "    </tr>\n",
       "    <tr>\n",
       "      <th>595</th>\n",
       "      <td>596</td>\n",
       "      <td>resource</td>\n",
       "      <td>To which artistic movement did the painter of ...</td>\n",
       "      <td>artistic movement, painter, The Three Dancers</td>\n",
       "    </tr>\n",
       "    <tr>\n",
       "      <th>596</th>\n",
       "      <td>597</td>\n",
       "      <td>resource</td>\n",
       "      <td>Which scientist is known for the Manhattan Pro...</td>\n",
       "      <td>scientist, known for, Manhattan Project, Nobel...</td>\n",
       "    </tr>\n",
       "    <tr>\n",
       "      <th>597</th>\n",
       "      <td>598</td>\n",
       "      <td>resource</td>\n",
       "      <td>Show me all books in Asimov's Foundation series.</td>\n",
       "      <td>books, Asimov, Foundation series</td>\n",
       "    </tr>\n",
       "    <tr>\n",
       "      <th>598</th>\n",
       "      <td>599</td>\n",
       "      <td>resource</td>\n",
       "      <td>Give me all cities in New Jersey with more tha...</td>\n",
       "      <td>New Jersey, city, inhabitants, more than 100000</td>\n",
       "    </tr>\n",
       "    <tr>\n",
       "      <th>599</th>\n",
       "      <td>600</td>\n",
       "      <td>resource</td>\n",
       "      <td>Which museum in New York has the most visitors?</td>\n",
       "      <td>museum, New York, the most visitors</td>\n",
       "    </tr>\n",
       "    <tr>\n",
       "      <th>600</th>\n",
       "      <td>601</td>\n",
       "      <td>number</td>\n",
       "      <td>How high is the Yokohama Marine Tower?</td>\n",
       "      <td>high, Yokohama Marine Tower</td>\n",
       "    </tr>\n",
       "    <tr>\n",
       "      <th>601</th>\n",
       "      <td>602</td>\n",
       "      <td>boolean</td>\n",
       "      <td>Does the new Battlestar Galactica series have ...</td>\n",
       "      <td>new BattleStar Galactica series, episodes, mor...</td>\n",
       "    </tr>\n",
       "    <tr>\n",
       "      <th>602</th>\n",
       "      <td>603</td>\n",
       "      <td>resource</td>\n",
       "      <td>Who is the youngest Darts player?</td>\n",
       "      <td>Darts player, youngest</td>\n",
       "    </tr>\n",
       "    <tr>\n",
       "      <th>603</th>\n",
       "      <td>604</td>\n",
       "      <td>resource</td>\n",
       "      <td>Who developed the video game World of Warcraft?</td>\n",
       "      <td>video game, World of Warcraft, develop</td>\n",
       "    </tr>\n",
       "    <tr>\n",
       "      <th>604</th>\n",
       "      <td>605</td>\n",
       "      <td>resource</td>\n",
       "      <td>Who was the pope that founded the Vatican Tele...</td>\n",
       "      <td>pope, founded, Vatican Television</td>\n",
       "    </tr>\n",
       "    <tr>\n",
       "      <th>605</th>\n",
       "      <td>606</td>\n",
       "      <td>resource</td>\n",
       "      <td>Who composed the music for Harold and Maude?</td>\n",
       "      <td>Harold and Maude, compose, music</td>\n",
       "    </tr>\n",
       "    <tr>\n",
       "      <th>606</th>\n",
       "      <td>607</td>\n",
       "      <td>resource</td>\n",
       "      <td>Give me all members of Prodigy.</td>\n",
       "      <td>member, Prodigy</td>\n",
       "    </tr>\n",
       "    <tr>\n",
       "      <th>607</th>\n",
       "      <td>608</td>\n",
       "      <td>resource</td>\n",
       "      <td>Who is starring in Spanish movies produced by ...</td>\n",
       "      <td>starring, Spanish movies, produced, Benicio de...</td>\n",
       "    </tr>\n",
       "    <tr>\n",
       "      <th>608</th>\n",
       "      <td>609</td>\n",
       "      <td>resource</td>\n",
       "      <td>Which subsidiary of TUI Travel serves both Gla...</td>\n",
       "      <td>subsidiary, TUI Travel, serve, Glasgow, Dublin</td>\n",
       "    </tr>\n",
       "    <tr>\n",
       "      <th>609</th>\n",
       "      <td>610</td>\n",
       "      <td>resource</td>\n",
       "      <td>In which country is Mecca located?</td>\n",
       "      <td>country, located, Mecca</td>\n",
       "    </tr>\n",
       "    <tr>\n",
       "      <th>610</th>\n",
       "      <td>611</td>\n",
       "      <td>number</td>\n",
       "      <td>How many languages are spoken in Colombia?</td>\n",
       "      <td>languages, Colombia</td>\n",
       "    </tr>\n",
       "    <tr>\n",
       "      <th>611</th>\n",
       "      <td>612</td>\n",
       "      <td>resource</td>\n",
       "      <td>What is the biggest stadium in Spain?</td>\n",
       "      <td>biggest stadium, Spain</td>\n",
       "    </tr>\n",
       "    <tr>\n",
       "      <th>612</th>\n",
       "      <td>613</td>\n",
       "      <td>resource</td>\n",
       "      <td>Which professional surfers were born on the Ph...</td>\n",
       "      <td>professional surfer, born, Philippines</td>\n",
       "    </tr>\n",
       "    <tr>\n",
       "      <th>613</th>\n",
       "      <td>614</td>\n",
       "      <td>resource</td>\n",
       "      <td>What are the five boroughs of New York?</td>\n",
       "      <td>five boroughs, New York</td>\n",
       "    </tr>\n",
       "    <tr>\n",
       "      <th>614</th>\n",
       "      <td>615</td>\n",
       "      <td>boolean</td>\n",
       "      <td>Is Cola a beverage?</td>\n",
       "      <td>Cola, beverage</td>\n",
       "    </tr>\n",
       "    <tr>\n",
       "      <th>615</th>\n",
       "      <td>616</td>\n",
       "      <td>date</td>\n",
       "      <td>When did princess Diana die?</td>\n",
       "      <td>date, princess Diana, died</td>\n",
       "    </tr>\n",
       "    <tr>\n",
       "      <th>616</th>\n",
       "      <td>617</td>\n",
       "      <td>resource</td>\n",
       "      <td>Where in France is sparkling wine produced?</td>\n",
       "      <td>produced, France, sparkling wine</td>\n",
       "    </tr>\n",
       "  </tbody>\n",
       "</table>\n",
       "<p>617 rows × 4 columns</p>\n",
       "</div>"
      ],
      "text/plain": [
       "      id answer_type                                             string  \\\n",
       "0      1    resource                            Give me all cosmonauts.   \n",
       "1      2        date  Give me the birthdays of all actors of the tel...   \n",
       "2      3    resource  Who is the daughter of Robert Kennedy married to?   \n",
       "3      4    resource        Which river does the Brooklyn Bridge cross?   \n",
       "4      5      number            How many countries are there in Europe?   \n",
       "5      6    resource             In which city did John F. Kennedy die?   \n",
       "6      7     boolean                    Does the Isar flow into a lake?   \n",
       "7      8    resource          Which countries have more than ten caves?   \n",
       "8      9     boolean                Are tree frogs a type of amphibian?   \n",
       "9     10    resource                                 Who created Goofy?   \n",
       "10    11    resource   Give me the capitals of all countries in Africa.   \n",
       "11    12    resource  Give me all cities in New Jersey with more tha...   \n",
       "12    13    resource         Which museum exhibits The Scream by Munch?   \n",
       "13    14     boolean           Is Egypts largest city also its capital?   \n",
       "14    15      number  How many people live in the capital of Australia?   \n",
       "15    16    resource             In which country is the Limerick Lake?   \n",
       "16    17    resource  Which television shows were created by John Cl...   \n",
       "17    18    resource  Which mountain is the highest after the Annapu...   \n",
       "18    19    resource  In which films directed by Garry Marshall was ...   \n",
       "19    20     boolean      Was U.S. president Jackson involved in a war?   \n",
       "20    21    resource                   Give me all communist countries.   \n",
       "21    22    resource           Which awards did Douglas Hofstadter win?   \n",
       "22    23    resource        What is the currency of the Czech Republic?   \n",
       "23    24    resource                  Which countries adopted the Euro?   \n",
       "24    25      number                   What is the area code of Berlin?   \n",
       "25    26    resource  Which countries have more than two official la...   \n",
       "26    27    resource                   Who is the owner of Rolls-Royce?   \n",
       "27    28    resource  Through which countries does the Yenisei river...   \n",
       "28    29        date                       When did Latvia join the EU?   \n",
       "29    30    resource        Which politicians were married to a German?   \n",
       "..   ...         ...                                                ...   \n",
       "587  588     boolean                     Did Che Guevara have children?   \n",
       "588  589     boolean    Is Lake Baikal bigger than the Great Bear Lake?   \n",
       "589  590     boolean  Did Kaurismäki ever win the Grand Prix at Cannes?   \n",
       "590  591    resource  Give me all books by William Goldman with more...   \n",
       "591  592    resource                        Where is Fort Knox located?   \n",
       "592  593    resource          In which U.S. state is Fort Knox located?   \n",
       "593  594    resource                      Where is Syngman Rhee buried?   \n",
       "594  595    resource      What is the timezone in San Pedro de Atacama?   \n",
       "595  596    resource  To which artistic movement did the painter of ...   \n",
       "596  597    resource  Which scientist is known for the Manhattan Pro...   \n",
       "597  598    resource   Show me all books in Asimov's Foundation series.   \n",
       "598  599    resource  Give me all cities in New Jersey with more tha...   \n",
       "599  600    resource    Which museum in New York has the most visitors?   \n",
       "600  601      number             How high is the Yokohama Marine Tower?   \n",
       "601  602     boolean  Does the new Battlestar Galactica series have ...   \n",
       "602  603    resource                  Who is the youngest Darts player?   \n",
       "603  604    resource    Who developed the video game World of Warcraft?   \n",
       "604  605    resource  Who was the pope that founded the Vatican Tele...   \n",
       "605  606    resource       Who composed the music for Harold and Maude?   \n",
       "606  607    resource                    Give me all members of Prodigy.   \n",
       "607  608    resource  Who is starring in Spanish movies produced by ...   \n",
       "608  609    resource  Which subsidiary of TUI Travel serves both Gla...   \n",
       "609  610    resource                 In which country is Mecca located?   \n",
       "610  611      number         How many languages are spoken in Colombia?   \n",
       "611  612    resource              What is the biggest stadium in Spain?   \n",
       "612  613    resource  Which professional surfers were born on the Ph...   \n",
       "613  614    resource            What are the five boroughs of New York?   \n",
       "614  615     boolean                                Is Cola a beverage?   \n",
       "615  616        date                       When did princess Diana die?   \n",
       "616  617    resource        Where in France is sparkling wine produced?   \n",
       "\n",
       "                                              keywords  \n",
       "0                                           cosmonauts  \n",
       "1            television show, Charmed, actor, birthday  \n",
       "2                    Robert Kennedy, daughter, married  \n",
       "3                        river, cross, Brooklyn Bridge  \n",
       "4                                    Europe, countries  \n",
       "5                           city, John F. Kennedy, die  \n",
       "6                                     Isar, flow, lake  \n",
       "7                         country, cave, more than ten  \n",
       "8                                 tree frog, amphibian  \n",
       "9                                       created, Goofy  \n",
       "10                            Africa, country, capital  \n",
       "11     New Jersey, city, inhabitants, more than 100000  \n",
       "12                               museum, Scream, Munch  \n",
       "13                        largest city, Egypt, capital  \n",
       "14                    Australia, capital, people, live  \n",
       "15                              Limerick Lake, country  \n",
       "16                television show, create, John Cleese  \n",
       "17                  mountain, highest after, Annapurna  \n",
       "18   film, directed, Garry Marshall, starring, Juli...  \n",
       "19                        U.S. president, Jackson, war  \n",
       "20                                 communist countries  \n",
       "21                           Douglas Hofstadter, award  \n",
       "22                            Czech republic, currency  \n",
       "23                                country, adopt, Euro  \n",
       "24                                   Berlin, area code  \n",
       "25           country, official language, more than two  \n",
       "26                                  Rolls-Royce, owner  \n",
       "27                Yenisei river, flow through, country  \n",
       "28                                    Latvia, join, EU  \n",
       "29                         politician, married, German  \n",
       "..                                                 ...  \n",
       "587                              children, Che Guevara  \n",
       "588          Lake Baikal, bigger than, Great Bear Lake  \n",
       "589           Kaurismäki, winner, Grand Prix at Cannes  \n",
       "590        book, William Goldman, pages, more than 300  \n",
       "591                                 Fort Knox, located  \n",
       "592                     Fort Knox, located, U.S. state  \n",
       "593                        where, Syngman Rhee, buried  \n",
       "594                     timezone, San Pedro de Atacama  \n",
       "595      artistic movement, painter, The Three Dancers  \n",
       "596  scientist, known for, Manhattan Project, Nobel...  \n",
       "597                   books, Asimov, Foundation series  \n",
       "598    New Jersey, city, inhabitants, more than 100000  \n",
       "599                museum, New York, the most visitors  \n",
       "600                        high, Yokohama Marine Tower  \n",
       "601  new BattleStar Galactica series, episodes, mor...  \n",
       "602                             Darts player, youngest  \n",
       "603             video game, World of Warcraft, develop  \n",
       "604                  pope, founded, Vatican Television  \n",
       "605                   Harold and Maude, compose, music  \n",
       "606                                    member, Prodigy  \n",
       "607  starring, Spanish movies, produced, Benicio de...  \n",
       "608     subsidiary, TUI Travel, serve, Glasgow, Dublin  \n",
       "609                            country, located, Mecca  \n",
       "610                                languages, Colombia  \n",
       "611                             biggest stadium, Spain  \n",
       "612             professional surfer, born, Philippines  \n",
       "613                            five boroughs, New York  \n",
       "614                                     Cola, beverage  \n",
       "615                         date, princess Diana, died  \n",
       "616                   produced, France, sparkling wine  \n",
       "\n",
       "[617 rows x 4 columns]"
      ]
     },
     "execution_count": 1,
     "metadata": {},
     "output_type": "execute_result"
    }
   ],
   "source": [
    "import pandas as pd\n",
    "dataset = pd.read_csv('train.csv',sep=\",\")\n",
    "dataset"
   ]
  },
  {
   "cell_type": "code",
   "execution_count": null,
   "metadata": {},
   "outputs": [],
   "source": [
    "dataset['answer_type']"
   ]
  },
  {
   "cell_type": "markdown",
   "metadata": {},
   "source": [
    "Tratando campo answertype (tipo de resposta). Os valores em string são convertidos para int"
   ]
  },
  {
   "cell_type": "code",
   "execution_count": 44,
   "metadata": {},
   "outputs": [
    {
     "name": "stdout",
     "output_type": "stream",
     "text": [
      "{'string': 0, 'resource': 1, 'number': 2, 'date': 3, 'boolean': 4}\n"
     ]
    }
   ],
   "source": [
    "types = {}\n",
    "cont = 0\n",
    "for tipo in set(dataset['answer_type']):\n",
    "    types[tipo] = cont\n",
    "    cont = cont +1\n",
    "\n",
    "dataset['answer_type'] = dataset['answer_type'].apply(lambda x : types[x] if x in types else x)\n",
    "Y = dataset['answer_type']\n",
    "\n",
    "print(types)\n"
   ]
  },
  {
   "cell_type": "markdown",
   "metadata": {},
   "source": [
    "Definição de stopwords. A lista de stopwords é proveniente do pacote NLTK. Para o melhor resultado aconselhado setar stopList = None e manter código de stopwords comentado"
   ]
  },
  {
   "cell_type": "code",
   "execution_count": 45,
   "metadata": {},
   "outputs": [],
   "source": [
    "stopList = None\n",
    "#import nltk\n",
    "#nltk.download('stopwords')\n",
    "#from nltk.corpus import stopwords\n",
    "#stopList = set(stopwords.words('english'))"
   ]
  },
  {
   "cell_type": "markdown",
   "metadata": {},
   "source": [
    "## Selecionando modelo de vetorização de strings"
   ]
  },
  {
   "cell_type": "markdown",
   "metadata": {},
   "source": [
    "### Bag Of Words"
   ]
  },
  {
   "cell_type": "code",
   "execution_count": 46,
   "metadata": {
    "scrolled": true
   },
   "outputs": [
    {
     "data": {
      "text/plain": [
       "(617, 1414)"
      ]
     },
     "execution_count": 46,
     "metadata": {},
     "output_type": "execute_result"
    }
   ],
   "source": [
    "from sklearn.feature_extraction.text import CountVectorizer\n",
    "vectorizer = CountVectorizer(stop_words=stopList)\n",
    "X = vectorizer.fit_transform(dataset['string']).todense()\n",
    "X.shape"
   ]
  },
  {
   "cell_type": "markdown",
   "metadata": {},
   "source": [
    "### TF-IDF"
   ]
  },
  {
   "cell_type": "code",
   "execution_count": 47,
   "metadata": {},
   "outputs": [],
   "source": [
    "#from sklearn.feature_extraction.text import TfidfVectorizer\n",
    "#vectorizer = TfidfVectorizer(stop_words=stopList)\n",
    "#X = vectorizer.fit_transform(dataset['string']).todense()\n",
    "#X.shape"
   ]
  },
  {
   "cell_type": "markdown",
   "metadata": {},
   "source": [
    "### HashVectorizer"
   ]
  },
  {
   "cell_type": "code",
   "execution_count": 48,
   "metadata": {},
   "outputs": [],
   "source": [
    "#from sklearn.feature_extraction.text import HashingVectorizer\n",
    "#vectorizer = HashingVectorizer(n_features=20)\n",
    "#X = vectorizer.fit_transform(dataset['string']).todense()\n",
    "#X.shape"
   ]
  },
  {
   "cell_type": "markdown",
   "metadata": {},
   "source": [
    "## Seleção de classe do modelo "
   ]
  },
  {
   "cell_type": "markdown",
   "metadata": {},
   "source": [
    "### Naive Bayes"
   ]
  },
  {
   "cell_type": "code",
   "execution_count": 49,
   "metadata": {},
   "outputs": [],
   "source": [
    "#from sklearn.naive_bayes import GaussianNB\n",
    "#model = GaussianNB()"
   ]
  },
  {
   "cell_type": "markdown",
   "metadata": {},
   "source": [
    "### SVM"
   ]
  },
  {
   "cell_type": "code",
   "execution_count": 50,
   "metadata": {},
   "outputs": [],
   "source": [
    "from sklearn.svm import SVC  \n",
    "model = SVC(kernel='linear',C=1)"
   ]
  },
  {
   "cell_type": "markdown",
   "metadata": {},
   "source": [
    "### Peceptron "
   ]
  },
  {
   "cell_type": "code",
   "execution_count": 51,
   "metadata": {},
   "outputs": [],
   "source": [
    "#from sklearn.linear_model import Perceptron\n",
    "#model = Perceptron(tol=1e-3, random_state=0,penalty = 'l1',alpha =0.000001,eta0 =10)"
   ]
  },
  {
   "cell_type": "markdown",
   "metadata": {},
   "source": [
    "### MLP"
   ]
  },
  {
   "cell_type": "code",
   "execution_count": 52,
   "metadata": {},
   "outputs": [],
   "source": [
    "#from sklearn.neural_network import MLPClassifier\n",
    "#model = MLPClassifier(solver = 'lbfgs',hidden_layer_sizes=(500,500))"
   ]
  },
  {
   "cell_type": "markdown",
   "metadata": {},
   "source": [
    "Avaliação de modelo selecionado.A métrica utilizada é F1-Score ponderada. Utiliza validação cruzada k-fold, sen k = 10"
   ]
  },
  {
   "cell_type": "code",
   "execution_count": 53,
   "metadata": {
    "scrolled": false
   },
   "outputs": [
    {
     "name": "stderr",
     "output_type": "stream",
     "text": [
      "C:\\Users\\CaioV\\Anaconda3\\lib\\site-packages\\sklearn\\metrics\\classification.py:1135: UndefinedMetricWarning: F-score is ill-defined and being set to 0.0 in labels with no predicted samples.\n",
      "  'precision', 'predicted', average, warn_for)\n",
      "C:\\Users\\CaioV\\Anaconda3\\lib\\site-packages\\sklearn\\metrics\\classification.py:1135: UndefinedMetricWarning: F-score is ill-defined and being set to 0.0 in labels with no predicted samples.\n",
      "  'precision', 'predicted', average, warn_for)\n",
      "C:\\Users\\CaioV\\Anaconda3\\lib\\site-packages\\sklearn\\metrics\\classification.py:1135: UndefinedMetricWarning: F-score is ill-defined and being set to 0.0 in labels with no predicted samples.\n",
      "  'precision', 'predicted', average, warn_for)\n"
     ]
    },
    {
     "name": "stdout",
     "output_type": "stream",
     "text": [
      "pontuação media: 0.9288305849730056 para 10 iteracoes(k-folds)\n"
     ]
    }
   ],
   "source": [
    "from sklearn.model_selection import cross_val_score\n",
    "experimentLoop = 10\n",
    "scores = cross_val_score(model, X, Y, cv=experimentLoop, scoring=\"f1_weighted\")\n",
    "print(\"pontuação media: \"+str(scores.mean())+\" para \"+ str(experimentLoop)+\" iteracoes(k-folds)\")"
   ]
  },
  {
   "cell_type": "markdown",
   "metadata": {},
   "source": [
    "Treinamento de modelo com dados completos"
   ]
  },
  {
   "cell_type": "code",
   "execution_count": 54,
   "metadata": {},
   "outputs": [
    {
     "data": {
      "text/plain": [
       "SVC(C=1, cache_size=200, class_weight=None, coef0=0.0,\n",
       "  decision_function_shape='ovr', degree=3, gamma='auto', kernel='linear',\n",
       "  max_iter=-1, probability=False, random_state=None, shrinking=True,\n",
       "  tol=0.001, verbose=False)"
      ]
     },
     "execution_count": 54,
     "metadata": {},
     "output_type": "execute_result"
    }
   ],
   "source": [
    "model.fit(X,Y)"
   ]
  },
  {
   "cell_type": "markdown",
   "metadata": {},
   "source": [
    "Teste do modelo completo em dados aleatórios. Usa F1-Score ponderada."
   ]
  },
  {
   "cell_type": "code",
   "execution_count": 55,
   "metadata": {},
   "outputs": [
    {
     "data": {
      "text/plain": [
       "1.0"
      ]
     },
     "execution_count": 55,
     "metadata": {},
     "output_type": "execute_result"
    }
   ],
   "source": [
    "from sklearn.model_selection import train_test_split\n",
    "X_train, X_test, Y_train, Y_test = train_test_split(X, Y, test_size=0.33, random_state=42)\n",
    "Y_predicted = model.predict(X_test)\n",
    "from sklearn.metrics import f1_score\n",
    "score = f1_score(Y_test,Y_predicted,average='weighted')\n",
    "score"
   ]
  },
  {
   "cell_type": "markdown",
   "metadata": {},
   "source": [
    "Mapa de confusão para valores testados"
   ]
  },
  {
   "cell_type": "code",
   "execution_count": 56,
   "metadata": {},
   "outputs": [
    {
     "data": {
      "image/png": "[encoded data removed]",
      "text/plain": [
       "<Figure size 288x288 with 2 Axes>"
      ]
     },
     "metadata": {
      "needs_background": "light"
     },
     "output_type": "display_data"
    }
   ],
   "source": [
    "from sklearn.metrics import confusion_matrix\n",
    "Y_predicted = model.predict(X_test)\n",
    "confusionMatrix = confusion_matrix(Y_test,Y_predicted)\n",
    "#confusionMatrix\n",
    "\n",
    "import matplotlib.pyplot as plt\n",
    "%matplotlib inline\n",
    "\n",
    "plt.matshow(confusionMatrix)\n",
    "plt.title(\"Matriz de confusão\")\n",
    "plt.colorbar()\n",
    "plt.ylabel(\"Classificações corretas\")\n",
    "plt.xlabel(\"Classificações obtidas\")\n",
    "plt.show()\n",
    "#model.score(X_test,Y_test)"
   ]
  },
  {
   "cell_type": "markdown",
   "metadata": {},
   "source": [
    "Teste interativo do modelo final. Para selecionar a questão de entrada altere o valor da variável 'ask'."
   ]
  },
  {
   "cell_type": "code",
   "execution_count": 57,
   "metadata": {},
   "outputs": [
    {
     "name": "stdout",
     "output_type": "stream",
     "text": [
      "tipo de retorno esperado: resource\n"
     ]
    }
   ],
   "source": [
    "ask = 'Who was the first man to step in the moon?'\n",
    "vect = vectorizer.transform([ask]).todense()\n",
    "response =model.predict(vect)\n",
    "print('tipo de retorno esperado: '+str(list(types.keys())[response[0]]))\n"
   ]
  },
  {
   "cell_type": "markdown",
   "metadata": {},
   "source": [
    "Salvando modelo"
   ]
  },
  {
   "cell_type": "code",
   "execution_count": 58,
   "metadata": {},
   "outputs": [],
   "source": [
    "#import pickle\n",
    "#filename = 'model_MLP.sav'\n",
    "#modelStringToArray = 'vectorizer_BagOfWords.sav'\n",
    "#pickle.dump(model, open(filename, 'wb'))\n",
    "#pickle.dump(vectorizer, open(modelStringToArray, 'wb'))\n",
    "#loaded_model = pickle.load(open(filename, 'rb'))"
   ]
  },
  {
   "cell_type": "code",
   "execution_count": 66,
   "metadata": {},
   "outputs": [
    {
     "data": {
      "image/png": "[encoded data removed]",
      "text/plain": [
       "<Figure size 576x576 with 1 Axes>"
      ]
     },
     "metadata": {
      "needs_background": "light"
     },
     "output_type": "display_data"
    }
   ],
   "source": [
    "from sklearn.decomposition import PCA\n",
    "pca = PCA(n_components=2)\n",
    "pca.fit(X)\n",
    "XN = pca.transform(X)\n",
    "\n",
    "fig = plt.figure(figsize = (8,8))\n",
    "ax = fig.add_subplot(1,1,1) \n",
    "ax.set_xlabel('Principal Component 1', fontsize = 15)\n",
    "ax.set_ylabel('Principal Component 2', fontsize = 15)\n",
    "ax.set_title('2 component PCA', fontsize = 20)\n",
    "\n",
    "\n",
    "targets = [0, 1, 2, 3, 4]\n",
    "colors = ['r', 'g', 'b','k','y']\n",
    "for target, color in zip(targets,colors):\n",
    "#    print(dataset['answer_type'])\n",
    "    indicesToKeep = dataset['answer_type'] == target\n",
    "    ax.scatter(XN[indicesToKeep,0]\n",
    "               , XN[indicesToKeep, 1]\n",
    "               , c = color\n",
    "               , s = 50)\n",
    "ax.legend(['string', 'resource', 'number', 'date', 'boolean'])\n",
    "ax.grid()\n"
   ]
  },
  {
   "cell_type": "code",
   "execution_count": null,
   "metadata": {},
   "outputs": [],
   "source": []
  }
 ],
 "metadata": {
  "kernelspec": {
   "display_name": "Python 3",
   "language": "python",
   "name": "python3"
  },
  "language_info": {
   "codemirror_mode": {
    "name": "ipython",
    "version": 3
   },
   "file_extension": ".py",
   "mimetype": "text/x-python",
   "name": "python",
   "nbconvert_exporter": "python",
   "pygments_lexer": "ipython3",
   "version": "3.7.0"
  }
 },
 "nbformat": 4,
 "nbformat_minor": 2
}
